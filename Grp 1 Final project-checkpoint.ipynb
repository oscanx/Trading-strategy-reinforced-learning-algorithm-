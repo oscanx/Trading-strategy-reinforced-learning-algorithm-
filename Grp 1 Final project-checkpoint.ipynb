{
 "cells": [
  {
   "cell_type": "code",
   "execution_count": null,
   "metadata": {
    "collapsed": true
   },
   "outputs": [],
   "source": [
    "Machine Learning for finance\n",
    "Modelling and Strategy Development\n",
    "May 20th 2019\n",
    "Group 3E members\n",
    "                Oscar Anomnihe\n",
    "                Hassim Idris\n",
    "                Henry ozoebuka\n",
    "                Akram Khalilov"
   ]
  },
  {
   "cell_type": "code",
   "execution_count": 3,
   "metadata": {},
   "outputs": [
    {
     "name": "stderr",
     "output_type": "stream",
     "text": [
      "C:\\Users\\user\\Anaconda3\\envs\\wqu_ml_fin\\lib\\site-packages\\sklearn\\utils\\fixes.py:313: FutureWarning: numpy not_equal will not check object identity in the future. The comparison did not return the same result as suggested by the identity (`is`)) and will change.\n",
      "  _nan_object_mask = _nan_object_array != _nan_object_array\n"
     ]
    }
   ],
   "source": [
    "import numpy as np\n",
    "from sklearn.ensemble import RandomForestClassifier\n",
    "import pandas as pd\n",
    "import datetime as dt\n",
    "import seaborn as sns\n",
    "import pandas_datareader.data as web\n",
    "import matplotlib.pyplot as plt\n",
    "import matplotlib.patches as mpatches\n",
    "import matplotlib.dates as mdates\n",
    "from sklearn.metrics import accuracy_score\n",
    "from sklearn.metrics import classification_report\n",
    "from sklearn.metrics import roc_curve\n",
    "from sklearn.metrics import roc_auc_score\n",
    "from sklearn.metrics import confusion_matrix\n",
    "from scipy.stats import skew\n",
    "\n",
    "import pyfolio as pf\n",
    "%matplotlib inline\n",
    "#silence warnings\n",
    "import warnings\n",
    "warnings.filterwarnings('ignore')\n"
   ]
  },
  {
   "cell_type": "code",
   "execution_count": 4,
   "metadata": {},
   "outputs": [
    {
     "data": {
      "text/plain": [
       "<bound method NDFrame.tail of                    High          Low         Open        Close      Volume  \\\n",
       "Date                                                                         \n",
       "2016-05-17  2065.689941  2040.819946  2065.040039  2047.209961  4108960000   \n",
       "2016-05-18  2060.610107  2034.489990  2044.380005  2047.630005  4101320000   \n",
       "2016-05-19  2044.209961  2025.910034  2044.209961  2040.040039  3846770000   \n",
       "2016-05-20  2058.350098  2041.880005  2041.880005  2052.320068  3507650000   \n",
       "2016-05-23  2055.580078  2047.260010  2052.229980  2048.040039  3055480000   \n",
       "2016-05-24  2079.669922  2052.649902  2052.649902  2076.060059  3627340000   \n",
       "2016-05-25  2094.729980  2078.929932  2078.929932  2090.540039  3859160000   \n",
       "2016-05-26  2094.300049  2087.080078  2091.439941  2090.100098  3230990000   \n",
       "2016-05-27  2099.060059  2090.060059  2090.060059  2099.060059  3079150000   \n",
       "2016-05-31  2103.479980  2088.659912  2100.129883  2096.949951  4514410000   \n",
       "2016-06-01  2100.969971  2085.100098  2093.939941  2099.330078  3525170000   \n",
       "2016-06-02  2105.260010  2088.590088  2097.709961  2105.260010  3632720000   \n",
       "2016-06-03  2104.070068  2085.360107  2104.070068  2099.129883  3627780000   \n",
       "2016-06-06  2113.360107  2100.830078  2100.830078  2109.409912  3442020000   \n",
       "2016-06-07  2119.219971  2110.179932  2110.179932  2112.129883  3534730000   \n",
       "2016-06-08  2120.550049  2112.709961  2112.709961  2119.120117  3562060000   \n",
       "2016-06-09  2117.639893  2107.729980  2115.649902  2115.479980  3290320000   \n",
       "2016-06-10  2109.570068  2089.959961  2109.570068  2096.070068  3515010000   \n",
       "2016-06-13  2098.120117  2078.459961  2091.750000  2079.060059  3392030000   \n",
       "2016-06-14  2081.300049  2064.100098  2076.649902  2075.320068  3759770000   \n",
       "2016-06-15  2085.649902  2069.800049  2077.600098  2071.500000  3544720000   \n",
       "2016-06-16  2079.620117  2050.370117  2066.360107  2077.989990  3628280000   \n",
       "2016-06-17  2078.199951  2062.840088  2078.199951  2071.219971  4952630000   \n",
       "2016-06-20  2100.659912  2075.580078  2075.580078  2083.250000  3467440000   \n",
       "2016-06-21  2093.659912  2083.020020  2085.189941  2088.899902  3232880000   \n",
       "2016-06-22  2099.709961  2084.360107  2089.750000  2085.449951  3168160000   \n",
       "2016-06-23  2113.320068  2092.800049  2092.800049  2113.320068  3297940000   \n",
       "2016-06-24  2103.810059  2032.569946  2103.810059  2037.410034  7597450000   \n",
       "2016-06-27  2031.449951  1991.680054  2031.449951  2000.540039  5431220000   \n",
       "2016-06-28  2036.089966  2006.670044  2006.670044  2036.089966  4385810000   \n",
       "...                 ...          ...          ...          ...         ...   \n",
       "2019-04-05  2893.239990  2882.989990  2884.159912  2892.739990  3146820000   \n",
       "2019-04-08  2895.949951  2880.780029  2888.459961  2895.770020  3054030000   \n",
       "2019-04-09  2886.879883  2873.330078  2886.580078  2878.199951  3007980000   \n",
       "2019-04-10  2889.709961  2879.129883  2881.370117  2888.209961  3062380000   \n",
       "2019-04-11  2893.419922  2881.989990  2891.919922  2888.320068  2938540000   \n",
       "2019-04-12  2910.540039  2898.370117  2900.860107  2907.409912  3688490000   \n",
       "2019-04-15  2909.600098  2896.479980  2908.320068  2905.580078  3088330000   \n",
       "2019-04-16  2916.060059  2900.709961  2912.260010  2907.060059  3402210000   \n",
       "2019-04-17  2918.000000  2895.449951  2916.040039  2900.449951  3602300000   \n",
       "2019-04-18  2908.399902  2891.899902  2904.810059  2905.030029  3506850000   \n",
       "2019-04-22  2909.510010  2896.350098  2898.780029  2907.969971  2997950000   \n",
       "2019-04-23  2936.310059  2908.530029  2909.989990  2933.679932  3635030000   \n",
       "2019-04-24  2936.830078  2926.050049  2934.000000  2927.250000  3448960000   \n",
       "2019-04-25  2933.100098  2912.840088  2928.989990  2926.169922  3425280000   \n",
       "2019-04-26  2939.879883  2917.560059  2925.810059  2939.879883  3248500000   \n",
       "2019-04-29  2949.520020  2939.350098  2940.580078  2943.030029  3118780000   \n",
       "2019-04-30  2948.219971  2924.110107  2937.139893  2945.830078  3919330000   \n",
       "2019-05-01  2954.129883  2923.360107  2952.330078  2923.729980  3645850000   \n",
       "2019-05-02  2931.679932  2900.500000  2922.159912  2917.520020  3778890000   \n",
       "2019-05-03  2947.850098  2929.209961  2929.209961  2945.639893  3338120000   \n",
       "2019-05-06  2937.320068  2898.209961  2908.889893  2932.469971  3181520000   \n",
       "2019-05-07  2913.030029  2862.600098  2913.030029  2884.050049  3767100000   \n",
       "2019-05-08  2897.959961  2873.280029  2879.610107  2879.419922  3485790000   \n",
       "2019-05-09  2875.969971  2836.399902  2859.840088  2870.719971  3638820000   \n",
       "2019-05-10  2891.310059  2825.389893  2863.100098  2881.399902  3529600000   \n",
       "2019-05-13  2840.189941  2801.429932  2840.189941  2811.870117  3894030000   \n",
       "2019-05-14  2852.540039  2820.120117  2820.120117  2834.409912  3322720000   \n",
       "2019-05-15  2858.679932  2815.080078  2820.379883  2850.959961  3125950000   \n",
       "2019-05-16  2892.149902  2855.800049  2855.800049  2876.320068  3338060000   \n",
       "2019-05-17  2885.479980  2854.229980  2858.600098  2859.530029  3257950000   \n",
       "\n",
       "              Adj Close  \n",
       "Date                     \n",
       "2016-05-17  2047.209961  \n",
       "2016-05-18  2047.630005  \n",
       "2016-05-19  2040.040039  \n",
       "2016-05-20  2052.320068  \n",
       "2016-05-23  2048.040039  \n",
       "2016-05-24  2076.060059  \n",
       "2016-05-25  2090.540039  \n",
       "2016-05-26  2090.100098  \n",
       "2016-05-27  2099.060059  \n",
       "2016-05-31  2096.949951  \n",
       "2016-06-01  2099.330078  \n",
       "2016-06-02  2105.260010  \n",
       "2016-06-03  2099.129883  \n",
       "2016-06-06  2109.409912  \n",
       "2016-06-07  2112.129883  \n",
       "2016-06-08  2119.120117  \n",
       "2016-06-09  2115.479980  \n",
       "2016-06-10  2096.070068  \n",
       "2016-06-13  2079.060059  \n",
       "2016-06-14  2075.320068  \n",
       "2016-06-15  2071.500000  \n",
       "2016-06-16  2077.989990  \n",
       "2016-06-17  2071.219971  \n",
       "2016-06-20  2083.250000  \n",
       "2016-06-21  2088.899902  \n",
       "2016-06-22  2085.449951  \n",
       "2016-06-23  2113.320068  \n",
       "2016-06-24  2037.410034  \n",
       "2016-06-27  2000.540039  \n",
       "2016-06-28  2036.089966  \n",
       "...                 ...  \n",
       "2019-04-05  2892.739990  \n",
       "2019-04-08  2895.770020  \n",
       "2019-04-09  2878.199951  \n",
       "2019-04-10  2888.209961  \n",
       "2019-04-11  2888.320068  \n",
       "2019-04-12  2907.409912  \n",
       "2019-04-15  2905.580078  \n",
       "2019-04-16  2907.060059  \n",
       "2019-04-17  2900.449951  \n",
       "2019-04-18  2905.030029  \n",
       "2019-04-22  2907.969971  \n",
       "2019-04-23  2933.679932  \n",
       "2019-04-24  2927.250000  \n",
       "2019-04-25  2926.169922  \n",
       "2019-04-26  2939.879883  \n",
       "2019-04-29  2943.030029  \n",
       "2019-04-30  2945.830078  \n",
       "2019-05-01  2923.729980  \n",
       "2019-05-02  2917.520020  \n",
       "2019-05-03  2945.639893  \n",
       "2019-05-06  2932.469971  \n",
       "2019-05-07  2884.050049  \n",
       "2019-05-08  2879.419922  \n",
       "2019-05-09  2870.719971  \n",
       "2019-05-10  2881.399902  \n",
       "2019-05-13  2811.870117  \n",
       "2019-05-14  2834.409912  \n",
       "2019-05-15  2850.959961  \n",
       "2019-05-16  2876.320068  \n",
       "2019-05-17  2859.530029  \n",
       "\n",
       "[756 rows x 6 columns]>"
      ]
     },
     "execution_count": 4,
     "metadata": {},
     "output_type": "execute_result"
    }
   ],
   "source": [
    "# fetch sp 500 Data from yahoo finance with pandas data reader\n",
    "ticker = '^GSPC'\n",
    "end = dt.datetime(2019,5,17)\n",
    "start = dt.date(end.year-3,end.month, end.day)\n",
    "df = web.DataReader(ticker,'yahoo',start, end)\n",
    "df.tail\n"
   ]
  },
  {
   "cell_type": "code",
   "execution_count": 6,
   "metadata": {
    "collapsed": true
   },
   "outputs": [],
   "source": [
    "# Creating input and output variables\n",
    "df['Open - Close'] = (df.Open - df.Close)/df.Open\n",
    "df['High - Low'] = (df.High - df.Low)/df.Low\n",
    "df['Perc_chg']= df['Adj Close'].pct_change()\n",
    "df['std_90'] = df['Perc_chg'].rolling(90).std()\n",
    "df['ret_90'] = df['Perc_chg'].rolling(90).mean()\n",
    "df.dropna(inplace = True)\n",
    "\n",
    "# X is the input variable\n",
    "X = df[['Open - Close', 'High - Low','std_90','ret_90']]\n",
    "# Y is the output variable\n",
    "Y = np.where(df['Adj Close'].shift(-1) > df['Adj Close'],1,-1)\n"
   ]
  },
  {
   "cell_type": "code",
   "execution_count": 7,
   "metadata": {},
   "outputs": [
    {
     "data": {
      "text/plain": [
       "432"
      ]
     },
     "execution_count": 7,
     "metadata": {},
     "output_type": "execute_result"
    }
   ],
   "source": [
    "\n",
    "# splitting the data into train and test . Train has 0.75 while test has 0.25\n",
    "split = df.shape[0] * 0.75\n",
    "Split = int(split)\n",
    "Split\n"
   ]
  },
  {
   "cell_type": "code",
   "execution_count": 8,
   "metadata": {},
   "outputs": [
    {
     "data": {
      "text/plain": [
       "((432,), (144,))"
      ]
     },
     "execution_count": 8,
     "metadata": {},
     "output_type": "execute_result"
    }
   ],
   "source": [
    "X_train,X_test = X[:Split],X[Split:]\n",
    "Y_train,Y_test = Y[:Split],Y[Split:]\n",
    "Y_train.shape,Y_test.shape"
   ]
  },
  {
   "cell_type": "code",
   "execution_count": 9,
   "metadata": {},
   "outputs": [
    {
     "data": {
      "text/plain": [
       "0.49305555555555558"
      ]
     },
     "execution_count": 9,
     "metadata": {},
     "output_type": "execute_result"
    }
   ],
   "source": [
    "# training a decision model \n",
    "clf = RandomForestClassifier(random_state = 5)\n",
    "model = clf.fit(X_train, Y_train)\n",
    "# predicting the X_test \n",
    "model.predict(X_test)\n",
    "# getting accuracy score\n",
    "accuracy_score(Y_test, model.predict(X_test), normalize = True)"
   ]
  },
  {
   "cell_type": "code",
   "execution_count": 10,
   "metadata": {},
   "outputs": [
    {
     "name": "stdout",
     "output_type": "stream",
     "text": [
      "correct prediction(%): 49.3055555556\n"
     ]
    }
   ],
   "source": [
    "# getting accuracy score of the model predicted\n",
    "\n",
    "print('correct prediction(%):', accuracy_score(Y_test, model.predict(X_test), normalize = True)* 100.0)"
   ]
  },
  {
   "cell_type": "code",
   "execution_count": 11,
   "metadata": {},
   "outputs": [
    {
     "name": "stdout",
     "output_type": "stream",
     "text": [
      "              precision    recall  f1-score   support\n",
      "\n",
      "          -1       0.42      0.34      0.38        65\n",
      "           1       0.53      0.62      0.57        79\n",
      "\n",
      "   micro avg       0.49      0.49      0.49       144\n",
      "   macro avg       0.48      0.48      0.47       144\n",
      "weighted avg       0.48      0.49      0.48       144\n",
      "\n"
     ]
    }
   ],
   "source": [
    "# Getting classisfication repor\n",
    "report = classification_report(Y_test,model.predict(X_test))\n",
    "print(report)\n"
   ]
  },
  {
   "cell_type": "code",
   "execution_count": 12,
   "metadata": {
    "collapsed": true
   },
   "outputs": [],
   "source": [
    "# strategy return\n",
    "df['strategy_return']= df['Perc_chg'].shift(-1)* model.predict(X)\n",
    "\n"
   ]
  },
  {
   "cell_type": "code",
   "execution_count": 13,
   "metadata": {},
   "outputs": [
    {
     "data": {
      "text/plain": [
       "<function matplotlib.pyplot.show>"
      ]
     },
     "execution_count": 13,
     "metadata": {},
     "output_type": "execute_result"
    },
    {
     "data": {
      "image/png": "[encoded data removed]",
      "text/plain": [
       "<Figure size 432x288 with 1 Axes>"
      ]
     },
     "metadata": {},
     "output_type": "display_data"
    }
   ],
   "source": [
    "df.strategy_return[Split:].hist()\n",
    "plt.xlabel('Strategy return (%)')\n",
    "plt.show"
   ]
  },
  {
   "cell_type": "code",
   "execution_count": 101,
   "metadata": {},
   "outputs": [
    {
     "data": {
      "text/plain": [
       "<function matplotlib.pyplot.show>"
      ]
     },
     "execution_count": 101,
     "metadata": {},
     "output_type": "execute_result"
    },
    {
     "data": {
      "image/png": "[encoded data removed]",
      "text/plain": [
       "<Figure size 432x288 with 1 Axes>"
      ]
     },
     "metadata": {},
     "output_type": "display_data"
    }
   ],
   "source": [
    "(df.strategy_return[Split:]+1).cumprod().plot()\n",
    "plt.ylabel('startegy return(%)')\n",
    "plt.show"
   ]
  },
  {
   "cell_type": "code",
   "execution_count": 25,
   "metadata": {},
   "outputs": [
    {
     "name": "stdout",
     "output_type": "stream",
     "text": [
      "max_drawdown is: Date\n",
      "2017-02-02   -0.162674\n",
      "2017-02-03   -0.162674\n",
      "2017-02-06   -0.162674\n",
      "2017-02-07   -0.162674\n",
      "2017-02-08   -0.162674\n",
      "2017-02-09   -0.162674\n",
      "2017-02-10   -0.162674\n",
      "2017-02-13   -0.162674\n",
      "2017-02-14   -0.162674\n",
      "2017-02-15   -0.162674\n",
      "2017-02-16   -0.162674\n",
      "2017-02-17   -0.162674\n",
      "2017-02-21   -0.162674\n",
      "2017-02-22   -0.162674\n",
      "2017-02-23   -0.162674\n",
      "2017-02-24   -0.162674\n",
      "2017-02-27   -0.162674\n",
      "2017-02-28   -0.162674\n",
      "2017-03-01   -0.162674\n",
      "2017-03-02   -0.162674\n",
      "2017-03-03   -0.162674\n",
      "2017-03-06   -0.162674\n",
      "2017-03-07   -0.162674\n",
      "2017-03-08   -0.162674\n",
      "2017-03-09   -0.162674\n",
      "2017-03-10   -0.162674\n",
      "2017-03-13   -0.162674\n",
      "2017-03-14   -0.162674\n",
      "2017-03-15   -0.162674\n",
      "2017-03-16   -0.162674\n",
      "                ...   \n",
      "2019-04-05   -0.162674\n",
      "2019-04-08   -0.162674\n",
      "2019-04-09   -0.162674\n",
      "2019-04-10   -0.162674\n",
      "2019-04-11   -0.162674\n",
      "2019-04-12   -0.162674\n",
      "2019-04-15   -0.162674\n",
      "2019-04-16   -0.162674\n",
      "2019-04-17   -0.162674\n",
      "2019-04-18   -0.162674\n",
      "2019-04-22   -0.162674\n",
      "2019-04-23   -0.162674\n",
      "2019-04-24   -0.162674\n",
      "2019-04-25   -0.162674\n",
      "2019-04-26   -0.162674\n",
      "2019-04-29   -0.162674\n",
      "2019-04-30   -0.162674\n",
      "2019-05-01   -0.162674\n",
      "2019-05-02   -0.162674\n",
      "2019-05-03   -0.162674\n",
      "2019-05-06   -0.162674\n",
      "2019-05-07   -0.162674\n",
      "2019-05-08   -0.162674\n",
      "2019-05-09   -0.162674\n",
      "2019-05-10   -0.162674\n",
      "2019-05-13   -0.162674\n",
      "2019-05-14   -0.162674\n",
      "2019-05-15   -0.162674\n",
      "2019-05-16   -0.162674\n",
      "2019-05-17   -0.162674\n",
      "Name: strategy_return, Length: 576, dtype: float64\n",
      "annualized return is: 1.31267483109\n",
      "calmar ratio is: Date\n",
      "2017-02-02   -8.069367\n",
      "2017-02-03   -8.069367\n",
      "2017-02-06   -8.069367\n",
      "2017-02-07   -8.069367\n",
      "2017-02-08   -8.069367\n",
      "2017-02-09   -8.069367\n",
      "2017-02-10   -8.069367\n",
      "2017-02-13   -8.069367\n",
      "2017-02-14   -8.069367\n",
      "2017-02-15   -8.069367\n",
      "2017-02-16   -8.069367\n",
      "2017-02-17   -8.069367\n",
      "2017-02-21   -8.069367\n",
      "2017-02-22   -8.069367\n",
      "2017-02-23   -8.069367\n",
      "2017-02-24   -8.069367\n",
      "2017-02-27   -8.069367\n",
      "2017-02-28   -8.069367\n",
      "2017-03-01   -8.069367\n",
      "2017-03-02   -8.069367\n",
      "2017-03-03   -8.069367\n",
      "2017-03-06   -8.069367\n",
      "2017-03-07   -8.069367\n",
      "2017-03-08   -8.069367\n",
      "2017-03-09   -8.069367\n",
      "2017-03-10   -8.069367\n",
      "2017-03-13   -8.069367\n",
      "2017-03-14   -8.069367\n",
      "2017-03-15   -8.069367\n",
      "2017-03-16   -8.069367\n",
      "                ...   \n",
      "2019-04-05   -8.069367\n",
      "2019-04-08   -8.069367\n",
      "2019-04-09   -8.069367\n",
      "2019-04-10   -8.069367\n",
      "2019-04-11   -8.069367\n",
      "2019-04-12   -8.069367\n",
      "2019-04-15   -8.069367\n",
      "2019-04-16   -8.069367\n",
      "2019-04-17   -8.069367\n",
      "2019-04-18   -8.069367\n",
      "2019-04-22   -8.069367\n",
      "2019-04-23   -8.069367\n",
      "2019-04-24   -8.069367\n",
      "2019-04-25   -8.069367\n",
      "2019-04-26   -8.069367\n",
      "2019-04-29   -8.069367\n",
      "2019-04-30   -8.069367\n",
      "2019-05-01   -8.069367\n",
      "2019-05-02   -8.069367\n",
      "2019-05-03   -8.069367\n",
      "2019-05-06   -8.069367\n",
      "2019-05-07   -8.069367\n",
      "2019-05-08   -8.069367\n",
      "2019-05-09   -8.069367\n",
      "2019-05-10   -8.069367\n",
      "2019-05-13   -8.069367\n",
      "2019-05-14   -8.069367\n",
      "2019-05-15   -8.069367\n",
      "2019-05-16   -8.069367\n",
      "2019-05-17   -8.069367\n",
      "Name: strategy_return, Length: 576, dtype: float64\n"
     ]
    }
   ],
   "source": [
    "from pyfinance import TSeries\n",
    "ts = TSeries(df['strategy_return'])\n",
    "print('max_drawdown is:',ts.max_drawdown())\n",
    "print('annualized return is:', ts.anlzd_ret())\n",
    "calmar_rat = ts.anlzd_ret()/ts.max_drawdown()\n",
    "print('calmar ratio is:', calmar_rat)"
   ]
  },
  {
   "cell_type": "code",
   "execution_count": 26,
   "metadata": {},
   "outputs": [
    {
     "data": {
      "text/plain": [
       "array([ 0.2,  0.6,  0.6,  0.8,  0.8,  0.9,  1. ,  0.7,  0.8,  0.7,  0.9,\n",
       "        0.4,  0.7,  0.4,  0.5,  0.7,  0.8,  0.6,  0.9,  0.8,  0.7,  0.9,\n",
       "        0.9,  0.6,  0.7,  0.2,  0.2,  0.9,  0.8,  0.2,  0.4,  0.8,  0.9,\n",
       "        0.9,  0.9,  0.9,  0.7,  0.8,  0.9,  0.8,  0.9,  1. ,  0.9,  0.9,\n",
       "        0.7,  0.8,  0.9,  0.9,  0.8,  0.9,  0.7,  0.9,  0.9,  1. ,  0.9,\n",
       "        0.7,  0.7,  0.6,  0.4,  0.6,  0.7,  0.2,  0.7,  0.8,  0.8,  0.8,\n",
       "        0.8,  0.7,  0.7,  0.6,  0.8,  0.4,  0.8,  0.8,  0.9,  0.8,  0.8,\n",
       "        0.1,  0.8,  0.8,  0.9,  0.7,  0.8,  0.4,  0.7,  0.4,  0.5,  0.6,\n",
       "        0.5,  0.6,  0.7,  0.6,  0.7,  0.7,  0.8,  0.7,  0.5,  0.7,  0.5,\n",
       "        0.4,  0.6,  0.4,  0.7,  0.6,  0.6,  0.5,  0.7,  0.8,  0.7,  0.6,\n",
       "        0.8,  0.4,  0.6,  0.3,  0.6,  0.4,  0.5,  0.4,  0.1,  0.4,  0. ,\n",
       "        0.2,  0.5,  0.3,  0.2,  0.1,  0.4,  0.4,  0.3,  0.1,  0.4,  0.3,\n",
       "        0.5,  0.2,  0.1,  0.5,  0.3,  0.3,  0.3,  0.5,  0.4,  0.2,  0.3,\n",
       "        0.4])"
      ]
     },
     "execution_count": 26,
     "metadata": {},
     "output_type": "execute_result"
    }
   ],
   "source": [
    "# model probability\n",
    "probs = model.predict_proba(X_test)\n",
    "probs = probs[:, 1]\n",
    "probs"
   ]
  },
  {
   "cell_type": "code",
   "execution_count": 27,
   "metadata": {},
   "outputs": [
    {
     "name": "stdout",
     "output_type": "stream",
     "text": [
      "AUC:0.50\n"
     ]
    }
   ],
   "source": [
    "# AUC\n",
    "auc = roc_auc_score(Y_test, probs)\n",
    "print('AUC:%.2f' % auc)"
   ]
  },
  {
   "cell_type": "code",
   "execution_count": 28,
   "metadata": {
    "collapsed": true
   },
   "outputs": [],
   "source": [
    "# defining roc curve\n",
    "def plot_roc_curve(fpr,tpr):\n",
    "    plt.plot(fpr,tpr,color = 'red',label = 'ROC')\n",
    "    plt.plot([0,1],[0,1],color ='green',linestyle ='--')\n",
    "    plt.xlabel('false positive rate')\n",
    "    plt.ylabel('true positive rate')\n",
    "    plt.title('ROC curve of trading strategy')\n",
    "    plt.legend()\n",
    "    plt.show()\n",
    "\n",
    "\n",
    "# getting the roc curve\n",
    "fpr,tpr,threshold = roc_curve(Y_test,probs)"
   ]
  },
  {
   "cell_type": "code",
   "execution_count": 29,
   "metadata": {},
   "outputs": [
    {
     "data": {
      "text/plain": [
       "(array([ 0.        ,  0.01538462,  0.18461538,  0.33846154,  0.50769231,\n",
       "         0.66153846,  0.70769231,  0.84615385,  0.90769231,  0.96923077,\n",
       "         1.        ,  1.        ]),\n",
       " array([ 0.        ,  0.02531646,  0.16455696,  0.36708861,  0.5443038 ,\n",
       "         0.62025316,  0.72151899,  0.83544304,  0.88607595,  0.94936709,\n",
       "         0.98734177,  1.        ]),\n",
       " array([ 2. ,  1. ,  0.9,  0.8,  0.7,  0.6,  0.5,  0.4,  0.3,  0.2,  0.1,\n",
       "         0. ]))"
      ]
     },
     "execution_count": 29,
     "metadata": {},
     "output_type": "execute_result"
    }
   ],
   "source": [
    "fpr,tpr,threshold"
   ]
  },
  {
   "cell_type": "code",
   "execution_count": 30,
   "metadata": {},
   "outputs": [
    {
     "data": {
      "image/png": "[encoded data removed]",
      "text/plain": [
       "<Figure size 432x288 with 1 Axes>"
      ]
     },
     "metadata": {},
     "output_type": "display_data"
    }
   ],
   "source": [
    "# plotting roc curve (false positive rate and true positive rate)\n",
    "plot_roc_curve(fpr,tpr)"
   ]
  },
  {
   "cell_type": "code",
   "execution_count": 31,
   "metadata": {},
   "outputs": [
    {
     "name": "stdout",
     "output_type": "stream",
     "text": [
      "[[22 43]\n",
      " [30 49]]\n"
     ]
    }
   ],
   "source": [
    "# confusion matrix with predicted model\n",
    "\n",
    "B = model.predict(X_test)\n",
    "confusionMat = confusion_matrix(Y_test,B)\n",
    "\n",
    "print(confusionMat)"
   ]
  },
  {
   "cell_type": "code",
   "execution_count": 32,
   "metadata": {},
   "outputs": [
    {
     "name": "stdout",
     "output_type": "stream",
     "text": [
      "Sharpe ratio is: 0.44446396319680576\n"
     ]
    }
   ],
   "source": [
    "sharpe_ratio = df['strategy_return'].mean()/df['strategy_return'].std()\n",
    "print('Sharpe ratio is:',sharpe_ratio)"
   ]
  },
  {
   "cell_type": "code",
   "execution_count": 33,
   "metadata": {},
   "outputs": [
    {
     "data": {
      "image/png": "[encoded data removed]",
      "text/plain": [
       "<Figure size 432x288 with 1 Axes>"
      ]
     },
     "metadata": {},
     "output_type": "display_data"
    }
   ],
   "source": [
    "# calculating max drawdown and plotting it\n",
    "window = 90\n",
    "Roll_max = pd.rolling_max(df['strategy_return'],window, min_periods = 1)\n",
    "daily_drawdown = df['strategy_return']/Roll_max -1\n",
    "max_daily_drawdown = pd.rolling_min(daily_drawdown,window,min_periods = 1)\n",
    "daily_drawdown.plot()\n",
    "max_daily_drawdown.plot()\n",
    "plt.show()\n",
    "# Blue chart line is daily running 90 days drawdown while \n",
    "#green chart line is maximum experienced drawdown in the past years"
   ]
  },
  {
   "cell_type": "code",
   "execution_count": 34,
   "metadata": {},
   "outputs": [
    {
     "data": {
      "image/png": "[encoded data removed]",
      "text/plain": [
       "<Figure size 432x288 with 1 Axes>"
      ]
     },
     "metadata": {},
     "output_type": "display_data"
    }
   ],
   "source": [
    "Roll_max2 = df['strategy_return'].cummax()\n",
    "Daily_Drawdown2 = df['strategy_return']/Roll_max2 -1.0\n",
    "Max_Daily_Drawdown2 =Daily_Drawdown2.cummin()\n",
    "Daily_Drawdown2.plot()\n",
    "Max_Daily_Drawdown2.plot()\n",
    "plt.show()"
   ]
  },
  {
   "cell_type": "code",
   "execution_count": 35,
   "metadata": {},
   "outputs": [
    {
     "data": {
      "text/plain": [
       "nan"
      ]
     },
     "execution_count": 35,
     "metadata": {},
     "output_type": "execute_result"
    }
   ],
   "source": [
    "skewness = skew(df['strategy_return'])\n",
    "skewness"
   ]
  },
  {
   "cell_type": "code",
   "execution_count": null,
   "metadata": {
    "collapsed": true
   },
   "outputs": [],
   "source": []
  },
  {
   "cell_type": "code",
   "execution_count": 36,
   "metadata": {},
   "outputs": [
    {
     "data": {
      "image/png": "[encoded data removed]",
      "text/plain": [
       "<Figure size 432x288 with 1 Axes>"
      ]
     },
     "metadata": {},
     "output_type": "display_data"
    }
   ],
   "source": [
    "# annualised return and plot\n",
    "annualised_ret = df['strategy_return']*252*100\n",
    "annualised_ret.plot()\n",
    "plt.title('annualised return of strategy')\n",
    "plt.show()"
   ]
  },
  {
   "cell_type": "code",
   "execution_count": 37,
   "metadata": {},
   "outputs": [
    {
     "data": {
      "image/png": "[encoded data removed]",
      "text/plain": [
       "<Figure size 432x288 with 1 Axes>"
      ]
     },
     "metadata": {},
     "output_type": "display_data"
    }
   ],
   "source": [
    "\n",
    "calmar_ratio = annualised_ret/max_daily_drawdown\n",
    "calmar_ratio.plot()\n",
    "\n",
    "plt.title('calmar ratio')\n",
    "plt.show()"
   ]
  },
  {
   "cell_type": "code",
   "execution_count": 38,
   "metadata": {
    "collapsed": true
   },
   "outputs": [],
   "source": [
    "df['equity'] = df['strategy_return']+100\n",
    "df['equity'].iloc[0]= 100"
   ]
  },
  {
   "cell_type": "code",
   "execution_count": 39,
   "metadata": {},
   "outputs": [
    {
     "data": {
      "image/png": "[encoded data removed]",
      "text/plain": [
       "<Figure size 432x288 with 1 Axes>"
      ]
     },
     "metadata": {},
     "output_type": "display_data"
    }
   ],
   "source": [
    "df['equity'].plot()\n",
    "plt.title('equity curve')\n",
    "plt.show()"
   ]
  },
  {
   "cell_type": "code",
   "execution_count": null,
   "metadata": {
    "collapsed": true
   },
   "outputs": [],
   "source": [
    "# using Kfold-cross validation technique "
   ]
  },
  {
   "cell_type": "code",
   "execution_count": 40,
   "metadata": {},
   "outputs": [
    {
     "data": {
      "text/plain": [
       "array([  7.26475810e-03,   2.11535699e-03,   2.26829186e-04,\n",
       "         6.93322386e-04,   5.75254645e-03,   3.56605010e-03,\n",
       "         5.24584510e-03,   4.00733518e-03,   4.99230892e-03,\n",
       "         8.64118036e-04,   1.67855653e-03,   6.04806616e-03,\n",
       "         1.08220015e-03,   4.18986722e-04,   1.49336419e-03,\n",
       "         1.01798306e-03,   2.57837638e-03,   1.36738547e-02,\n",
       "         5.85988050e-03,   5.03877272e-04,   3.27724085e-03,\n",
       "         2.91337377e-03,   2.28421517e-03,   7.99895359e-04,\n",
       "         3.26867020e-03,   3.66632813e-04,   3.37902718e-03,\n",
       "         8.37475280e-03,   1.62671027e-03,   1.31431480e-03,\n",
       "         2.00989353e-03,   1.24079729e-02,   1.88988644e-03,\n",
       "         1.06026966e-03,   8.43995849e-04,   1.01958745e-03,\n",
       "         7.25147435e-03,   1.08532474e-03,   2.93510994e-03,\n",
       "         2.25504749e-03,   1.64212554e-03,   5.59522549e-04,\n",
       "         3.05486120e-03,   1.92950941e-03,   8.27130202e-04,\n",
       "         6.87686484e-04,   1.43387930e-03,   3.75995103e-03,\n",
       "         6.81469423e-03,   8.61334894e-03,   2.90337986e-03,\n",
       "         1.71635078e-03,   7.55726342e-03,   3.03507293e-03,\n",
       "         1.08400690e-02,   6.09068748e-03,   4.85703484e-04,\n",
       "         5.52919804e-04,   1.91314707e-03,   1.73229051e-03,\n",
       "         1.18904995e-03,   1.27136053e-03,   5.82102644e-04,\n",
       "         4.08869541e-03,   3.74459730e-05,   1.02524863e-03,\n",
       "         1.13060137e-03,   2.16280912e-03,   1.47844137e-03,\n",
       "         4.77651365e-03,   6.86897015e-04,   1.81782144e-02,\n",
       "         3.68681828e-03,   6.76749994e-03,   5.16013115e-03,\n",
       "         1.83787199e-03,   2.48912655e-03,   4.44194838e-03,\n",
       "         3.10549996e-04,   1.20462459e-03,   4.59968802e-04,\n",
       "         7.57111261e-03,   3.70773131e-03,   1.21766518e-03,\n",
       "         2.77903997e-03,   1.56825723e-03,   2.67204728e-04,\n",
       "         8.29989234e-04,   9.78763178e-04,   4.51150518e-03,\n",
       "         9.95830796e-04,   2.23959815e-03,   2.83639368e-04,\n",
       "         8.34722866e-03,   6.69663736e-03,   5.82644390e-04,\n",
       "         4.55782072e-04,   1.56091552e-03,   3.15801795e-04,\n",
       "         8.07282489e-03,   8.80806637e-03,   8.60002325e-03,\n",
       "         1.53323181e-03,   2.31083385e-03,   1.45327902e-03,\n",
       "         9.36882382e-03,   6.40312549e-03,   9.27766213e-04,\n",
       "         7.82680612e-04,   7.30560764e-03,   1.87458431e-03,\n",
       "         4.67350308e-03,   5.29128368e-05,   5.97857344e-04,\n",
       "         5.37263936e-03,   1.53659282e-04,   3.67871648e-04,\n",
       "         1.06373483e-03,   2.92317168e-03,   2.82663948e-04,\n",
       "         9.72688269e-04,   1.34111558e-03,   7.28145608e-04,\n",
       "         2.44911497e-03,   4.92648719e-04,   2.18365419e-03,\n",
       "         1.88910353e-03,   1.64719979e-03,   2.41443279e-03,\n",
       "         3.63608671e-04,   1.44744417e-02,   1.27556998e-03,\n",
       "         1.00437545e-02,   4.98807881e-04,   1.42010292e-03,\n",
       "         1.54369522e-02,   1.83536731e-03,   1.16265107e-03,\n",
       "         9.94077979e-03,   3.45359271e-03,   2.07446207e-03,\n",
       "         1.67286936e-03,   4.87072054e-04,   8.42821737e-04,\n",
       "         4.61514893e-03,   5.72097622e-03,   1.98254068e-03,\n",
       "         7.55080689e-03,   3.12872677e-03,   1.78436123e-04,\n",
       "        -1.48885070e-03,   1.08392993e-02,   3.36394801e-03,\n",
       "         7.57120719e-04,   1.10071762e-03,   1.84718149e-03,\n",
       "         1.45592075e-03,   1.11019543e-03,   6.34347816e-04,\n",
       "         3.04591770e-03,   6.47793723e-04,   2.22205028e-03,\n",
       "         7.21667298e-05,   4.08514395e-03,   1.20461560e-03,\n",
       "         3.70511008e-03,   3.87400346e-03,   2.15883813e-03,\n",
       "         1.24672017e-03,   5.64678737e-03,   1.07363441e-03,\n",
       "         1.80443392e-03,   2.32241226e-03,   1.80350730e-03,\n",
       "         1.68675295e-03,   8.78107316e-04,   1.75075331e-03,\n",
       "         6.72578985e-04,   7.42334906e-04,   3.27997895e-04,\n",
       "         5.11684274e-03,   3.97248404e-03,   1.61790828e-03,\n",
       "         4.66304975e-03,   1.27094622e-03,   8.07302250e-03,\n",
       "         3.19247057e-03,   9.44458657e-04,   1.59211017e-03,\n",
       "         1.89965811e-04,   3.09707538e-03,   1.27125124e-03,\n",
       "         1.89102923e-04,   1.44365500e-03,   3.76188764e-03,\n",
       "         8.97643853e-04,   9.83634363e-04,   2.30960930e-03,\n",
       "         5.52567572e-03,   8.19605806e-03,   2.62596309e-03,\n",
       "         1.27568288e-03,   6.54113930e-03,   7.50261117e-04,\n",
       "         2.05609515e-03,   3.84257741e-04,   9.84851272e-03,\n",
       "         3.69225702e-04,   8.19095043e-03,   2.02453080e-03,\n",
       "         1.05215664e-03,   3.73938156e-03,   1.14105660e-04,\n",
       "         2.93235799e-03,   5.50630632e-03,   3.20195747e-03,\n",
       "        -1.54892206e-03,   4.72957091e-04,   4.07085923e-03,\n",
       "         8.97434351e-03,   5.36280723e-03,   3.23026946e-03,\n",
       "         8.27893181e-04,   1.98565582e-03,   4.58166648e-04,\n",
       "         1.05841518e-03,   7.90940939e-04,   1.83399873e-03,\n",
       "         5.18315316e-03,   8.30336148e-03,   6.39881877e-03,\n",
       "         4.02863608e-03,   7.03376744e-03,   1.66234393e-03,\n",
       "         1.30293160e-03,   1.11222683e-03,   7.03364648e-03,\n",
       "         6.74960299e-03,   3.52448762e-03,   9.41505156e-03,\n",
       "         1.61638973e-03,   4.38523511e-03,   8.06672650e-03,\n",
       "         2.17436548e-03,   5.59975702e-04,   6.02620902e-04,\n",
       "         1.18411965e-02,   6.73197433e-03,   1.08988156e-02,\n",
       "         4.88985373e-04,   6.48088252e-04,   2.12085479e-02,\n",
       "         4.09792248e-02,   1.74409206e-02,   5.00158842e-03,\n",
       "         3.75364198e-02,   1.49360902e-02,   1.39145848e-02,\n",
       "         2.61292975e-03,   1.34024583e-02,   1.20691128e-02,\n",
       "         3.73469372e-04,   5.84138946e-03,   5.49650313e-03,\n",
       "         9.73551079e-04,   1.60283764e-02,   1.17570153e-02,\n",
       "         1.27068884e-02,   1.10957886e-02,   1.33243995e-02,\n",
       "         5.07160274e-03,   1.10320265e-02,   2.63885861e-03,\n",
       "         4.83874721e-04,   4.46307821e-03,  -1.73788315e-02,\n",
       "         1.27398513e-03,   6.36357655e-03,   5.72452195e-03,\n",
       "         7.81930532e-04,   1.70344717e-03,   1.42041954e-02,\n",
       "         1.48180545e-03,   1.84398988e-03,   2.51628884e-02,\n",
       "         2.09668807e-02,   2.71572558e-02,   1.72763088e-02,\n",
       "         2.91665717e-03,   1.37697187e-02,   2.23374236e-02,\n",
       "         1.26148658e-02,   1.15664827e-02,   6.86286366e-03,\n",
       "         2.19202488e-02,   3.33654890e-03,   1.67269538e-02,\n",
       "         5.52536448e-03,   8.25075006e-03,   2.88662549e-03,\n",
       "         8.10903839e-03,   1.06615047e-02,   8.31365801e-04,\n",
       "         5.72612469e-03,   8.53653230e-03,   5.62316921e-05,\n",
       "         1.33805616e-02,   1.83705956e-03,   1.04342048e-02,\n",
       "         1.11362489e-03,   8.18749096e-03,   2.54904548e-03,\n",
       "        -7.20586357e-03,   2.25367424e-03,   1.28111790e-02,\n",
       "         3.45794550e-03,   2.65641323e-04,   9.68222026e-03,\n",
       "         9.37064372e-03,   1.70759555e-03,   8.83489557e-04,\n",
       "         6.84214028e-03,   4.06056168e-03,   8.55872321e-04,\n",
       "         2.63219494e-03,   7.38675300e-03,   3.13576179e-03,\n",
       "         3.24840989e-03,   2.02321350e-03,   2.35722044e-03,\n",
       "         1.15641873e-02,   1.26957912e-02,   6.87955997e-03,\n",
       "         1.08492304e-02,   4.47959844e-03,   7.02592972e-04,\n",
       "         8.56739247e-03,   7.14188468e-04,   3.12590439e-03,\n",
       "         1.06870767e-03,   1.74338521e-03,   4.02612787e-03,\n",
       "         2.47154978e-03,   1.01710272e-03,   2.12612776e-03,\n",
       "         4.02340229e-03,   1.71215429e-03,   6.34551052e-03,\n",
       "         1.86193451e-03,   1.37246690e-02,   2.20457702e-03,\n",
       "         8.60435513e-03,   6.17868986e-03,   7.58403330e-04,\n",
       "         3.06795741e-03,   4.94735063e-03,   8.62080368e-03,\n",
       "         8.48128160e-03,   8.82298589e-03,   3.47326718e-03,\n",
       "         7.09420287e-03,   8.74904267e-03,   1.07923749e-03,\n",
       "         1.02813573e-03,   3.97369863e-03,   2.16051263e-03,\n",
       "         3.95299312e-03,   9.48447710e-04,   1.83804949e-03,\n",
       "         4.78091115e-03,   9.10160506e-03,   3.03229602e-03,\n",
       "         6.56220869e-03,   5.75417029e-03,   4.88472880e-03,\n",
       "         1.04035153e-03,   4.92644480e-03,   4.64418301e-03,\n",
       "         3.53822745e-03,   2.82418226e-03,   2.62379966e-04,\n",
       "         1.44167446e-03,   7.11388791e-03,   4.00599219e-03,\n",
       "         6.38925478e-03,   7.60216484e-03,   7.91940848e-03,\n",
       "         3.32311572e-03,   2.42801777e-03,   2.06853643e-03,\n",
       "         3.98151771e-04,   1.69126213e-03,   6.19883970e-03,\n",
       "         7.67040943e-03,   2.69278326e-04,   5.70143413e-03,\n",
       "         4.43032905e-03,   1.34477509e-04,   1.65432215e-03,\n",
       "         2.80312668e-03,   3.65230509e-03,   2.21334483e-03,\n",
       "         1.89782681e-03,   3.73984151e-03,   3.56671942e-04,\n",
       "         5.28225433e-03,   2.75481839e-04,   5.56972225e-03,\n",
       "         5.36901464e-03,   1.25327272e-03,   7.84059190e-03,\n",
       "         3.68533012e-04,   3.51568776e-03,   1.30509611e-03,\n",
       "         3.28927811e-03,   2.76328709e-03,   6.87012054e-06,\n",
       "         3.64110512e-03,   3.96690208e-04,   7.11519747e-04,\n",
       "         8.16948233e-03,   5.52797877e-03,   3.95116629e-04,\n",
       "         1.41790366e-03,   3.28642290e-02,   2.05730076e-02,\n",
       "         1.42061978e-02,   5.90497896e-03,   2.14956002e-02,\n",
       "         2.52662338e-04,   1.43919224e-02,   3.61169898e-04,\n",
       "         4.29952755e-03,  -5.51183000e-03,  -3.08644340e-02,\n",
       "         1.86250401e-02,  -1.73272640e-02,  -6.55959957e-03,\n",
       "         1.56667801e-02,   1.08513320e-02,   1.05578437e-02,\n",
       "        -6.31668638e-03,   5.60031717e-03,  -6.25929577e-03,\n",
       "         2.12088561e-02,   2.50891638e-03,   9.19901371e-03,\n",
       "        -1.97014893e-02,  -1.48191969e-03,  -7.56741069e-03,\n",
       "         1.05937534e-02,   2.22330542e-03,  -1.66431086e-02,\n",
       "        -1.81512408e-02,   3.04329075e-03,  -6.55484239e-03,\n",
       "         1.55323684e-02,  -3.26169214e-03,  -2.29739796e-02,\n",
       "        -2.18310809e-03,   8.17074755e-03,  -1.09414261e-02,\n",
       "         3.23649031e-02,  -1.52222815e-03,  -2.33201188e-02,\n",
       "         1.76215399e-03,  -3.56346169e-04,   5.41950368e-03,\n",
       "        -1.99930324e-04,  -1.90867096e-02,  -2.07734806e-02,\n",
       "         8.64005861e-05,  -1.53957145e-02,  -1.57721063e-02,\n",
       "        -2.05882283e-02,  -2.71122545e-02,   4.95937428e-02,\n",
       "         8.56268078e-03,  -1.24158251e-03,   8.49248413e-03,\n",
       "         1.26849693e-03,  -2.47567304e-02,   3.43357146e-02,\n",
       "         7.01043485e-03,   9.69528502e-03,   4.09804545e-03,\n",
       "         4.51841878e-03,  -1.46297842e-04,  -5.25752517e-03,\n",
       "         1.07216886e-02,  -2.22198549e-03,   7.59140038e-03,\n",
       "         1.31830530e-02,   1.41573062e-02,   2.20291277e-03,\n",
       "         1.37572555e-03,   8.48869406e-03,  -7.84682749e-03,\n",
       "        -1.45624658e-03,   1.55492609e-02,   8.59739595e-03,\n",
       "         8.98610093e-04,   6.77623662e-03,  -4.70842038e-03,\n",
       "        -2.22443798e-03,  -9.35714014e-03,   6.76201087e-04,\n",
       "         7.09103099e-04,   1.28902247e-02,  -3.02399467e-03,\n",
       "        -2.65164156e-03,   1.08787526e-02,   1.49874332e-03,\n",
       "         1.77711075e-03,  -3.52643679e-03,  -6.41110239e-03,\n",
       "         1.23186257e-03,   7.90457097e-04,   5.44049388e-04,\n",
       "        -2.82550832e-03,  -6.89532059e-03,  -3.88055849e-03,\n",
       "        -1.13153282e-03,  -6.52409865e-03,  -8.12571756e-03,\n",
       "        -2.13168885e-03,   1.46660419e-02,   2.95331820e-03,\n",
       "        -6.94958381e-03,  -8.68022382e-04,  -4.98490290e-03,\n",
       "        -3.70594690e-03,  -1.30561556e-04,   2.94435360e-03,\n",
       "         1.08524810e-02,  -1.89745012e-02,  -8.39020658e-04,\n",
       "        -7.18272586e-03,  -4.64432489e-03,   3.58948153e-03,\n",
       "         6.73428002e-03,   1.15686001e-02,   1.74557072e-05,\n",
       "        -2.14837688e-03,   2.08463508e-03,  -4.63643277e-03,\n",
       "         1.04745995e-03,   6.06749439e-03,  -3.47787156e-03,\n",
       "        -3.81230670e-05,  -6.60932421e-03,   6.29369108e-04,\n",
       "        -5.09358004e-04,   2.27381179e-03,  -1.57909228e-03,\n",
       "        -1.01201756e-03,  -8.84120579e-03,   2.19176317e-03,\n",
       "         3.68973653e-04,  -4.68529214e-03,  -1.07152217e-03,\n",
       "        -9.51417009e-04,   7.50216308e-03,   2.12398579e-03,\n",
       "        -9.63827938e-03,   4.47098843e-03,   1.65116514e-02,\n",
       "         1.60542531e-03,   3.02142494e-03,  -3.72029726e-03,\n",
       "         2.41305572e-02,  -8.01594454e-03,  -5.83897507e-03,\n",
       "        -8.89528712e-03,   5.83733335e-03,              nan])"
      ]
     },
     "execution_count": 40,
     "metadata": {},
     "output_type": "execute_result"
    }
   ],
   "source": [
    "from numpy import array\n",
    "from sklearn.model_selection import KFold\n",
    "df = array(df['strategy_return'])\n",
    "df"
   ]
  },
  {
   "cell_type": "code",
   "execution_count": 41,
   "metadata": {},
   "outputs": [
    {
     "name": "stdout",
     "output_type": "stream",
     "text": [
      "train: [  2.11535699e-03   2.26829186e-04   4.00733518e-03   4.99230892e-03\n",
      "   1.67855653e-03   1.08220015e-03   4.18986722e-04   1.49336419e-03\n",
      "   1.01798306e-03   5.85988050e-03   3.27724085e-03   2.91337377e-03\n",
      "   2.28421517e-03   7.99895359e-04   3.26867020e-03   3.66632813e-04\n",
      "   3.37902718e-03   8.37475280e-03   1.62671027e-03   2.00989353e-03\n",
      "   1.88988644e-03   1.06026966e-03   1.01958745e-03   7.25147435e-03\n",
      "   1.08532474e-03   2.25504749e-03   1.92950941e-03   8.27130202e-04\n",
      "   6.87686484e-04   1.43387930e-03   6.81469423e-03   2.90337986e-03\n",
      "   1.71635078e-03   7.55726342e-03   3.03507293e-03   1.08400690e-02\n",
      "   6.09068748e-03   4.85703484e-04   5.52919804e-04   1.18904995e-03\n",
      "   1.27136053e-03   4.08869541e-03   3.74459730e-05   6.86897015e-04\n",
      "   1.81782144e-02   3.68681828e-03   6.76749994e-03   5.16013115e-03\n",
      "   1.83787199e-03   2.48912655e-03   4.44194838e-03   1.20462459e-03\n",
      "   4.59968802e-04   7.57111261e-03   3.70773131e-03   1.21766518e-03\n",
      "   2.77903997e-03   2.67204728e-04   8.29989234e-04   9.78763178e-04\n",
      "   4.51150518e-03   2.23959815e-03   8.34722866e-03   6.69663736e-03\n",
      "   5.82644390e-04   4.55782072e-04   1.56091552e-03   3.15801795e-04\n",
      "   8.07282489e-03   8.80806637e-03   2.31083385e-03   1.45327902e-03\n",
      "   9.36882382e-03   6.40312549e-03   7.82680612e-04   7.30560764e-03\n",
      "   5.29128368e-05   5.97857344e-04   5.37263936e-03   1.53659282e-04\n",
      "   3.67871648e-04   2.92317168e-03   1.34111558e-03   7.28145608e-04\n",
      "   2.44911497e-03   2.18365419e-03   1.88910353e-03   1.64719979e-03\n",
      "   3.63608671e-04   1.44744417e-02   1.27556998e-03   1.42010292e-03\n",
      "   1.83536731e-03   1.16265107e-03   9.94077979e-03   3.45359271e-03\n",
      "   2.07446207e-03   1.67286936e-03   8.42821737e-04   4.61514893e-03\n",
      "   5.72097622e-03   3.12872677e-03   1.78436123e-04  -1.48885070e-03\n",
      "   1.08392993e-02   3.36394801e-03   7.57120719e-04   1.10071762e-03\n",
      "   1.84718149e-03   1.45592075e-03   6.34347816e-04   4.08514395e-03\n",
      "   1.20461560e-03   3.87400346e-03   2.15883813e-03   1.24672017e-03\n",
      "   5.64678737e-03   1.07363441e-03   1.80443392e-03   1.68675295e-03\n",
      "   8.78107316e-04   1.75075331e-03   6.72578985e-04   7.42334906e-04\n",
      "   3.97248404e-03   1.61790828e-03   4.66304975e-03   1.27094622e-03\n",
      "   8.07302250e-03   1.59211017e-03   3.09707538e-03   1.27125124e-03\n",
      "   1.44365500e-03   3.76188764e-03   9.83634363e-04   5.52567572e-03\n",
      "   8.19605806e-03   2.62596309e-03   6.54113930e-03   7.50261117e-04\n",
      "   2.05609515e-03   3.84257741e-04   9.84851272e-03   3.69225702e-04\n",
      "   8.19095043e-03   2.02453080e-03   1.05215664e-03   3.73938156e-03\n",
      "   1.14105660e-04   2.93235799e-03   3.20195747e-03  -1.54892206e-03\n",
      "   4.72957091e-04   8.97434351e-03   5.36280723e-03   3.23026946e-03\n",
      "   8.27893181e-04   1.05841518e-03   7.90940939e-04   1.83399873e-03\n",
      "   5.18315316e-03   8.30336148e-03   6.39881877e-03   4.02863608e-03\n",
      "   7.03376744e-03   1.30293160e-03   1.11222683e-03   3.52448762e-03\n",
      "   9.41505156e-03   1.61638973e-03   8.06672650e-03   2.17436548e-03\n",
      "   1.08988156e-02   2.12085479e-02   4.09792248e-02   1.74409206e-02\n",
      "   5.00158842e-03   1.49360902e-02   1.34024583e-02   5.84138946e-03\n",
      "   5.49650313e-03   9.73551079e-04   1.60283764e-02   1.17570153e-02\n",
      "   1.33243995e-02   5.07160274e-03   1.10320265e-02   2.63885861e-03\n",
      "  -1.73788315e-02   1.27398513e-03   5.72452195e-03   7.81930532e-04\n",
      "   1.70344717e-03   1.42041954e-02   1.48180545e-03   1.72763088e-02\n",
      "   2.91665717e-03   2.23374236e-02   1.15664827e-02   2.19202488e-02\n",
      "   1.67269538e-02   5.52536448e-03   8.25075006e-03   2.88662549e-03\n",
      "   8.10903839e-03   1.06615047e-02   8.31365801e-04   5.72612469e-03\n",
      "   8.53653230e-03   1.04342048e-02   1.11362489e-03   8.18749096e-03\n",
      "   2.54904548e-03   2.25367424e-03   2.65641323e-04   9.68222026e-03\n",
      "   1.70759555e-03   8.83489557e-04   6.84214028e-03   4.06056168e-03\n",
      "   2.63219494e-03   7.38675300e-03   3.24840989e-03   2.02321350e-03\n",
      "   1.15641873e-02   1.26957912e-02   6.87955997e-03   1.08492304e-02\n",
      "   4.47959844e-03   8.56739247e-03   7.14188468e-04   3.12590439e-03\n",
      "   1.74338521e-03   2.47154978e-03   1.01710272e-03   1.86193451e-03\n",
      "   1.37246690e-02   8.60435513e-03   6.17868986e-03   7.58403330e-04\n",
      "   3.06795741e-03   4.94735063e-03   8.62080368e-03   8.48128160e-03\n",
      "   8.82298589e-03   3.47326718e-03   2.16051263e-03   9.48447710e-04\n",
      "   1.83804949e-03   4.78091115e-03   3.03229602e-03   6.56220869e-03\n",
      "   5.75417029e-03   4.88472880e-03   1.04035153e-03   4.92644480e-03\n",
      "   4.64418301e-03   3.53822745e-03   2.82418226e-03   2.62379966e-04\n",
      "   1.44167446e-03   4.00599219e-03   6.38925478e-03   7.91940848e-03\n",
      "   3.32311572e-03   2.06853643e-03   3.98151771e-04   1.69126213e-03\n",
      "   6.19883970e-03   7.67040943e-03   2.69278326e-04   1.34477509e-04\n",
      "   1.65432215e-03   2.80312668e-03   2.21334483e-03   5.28225433e-03\n",
      "   2.75481839e-04   5.56972225e-03   5.36901464e-03   1.25327272e-03\n",
      "   1.30509611e-03   3.28927811e-03   2.76328709e-03   6.87012054e-06\n",
      "   3.96690208e-04   7.11519747e-04   3.28642290e-02   2.52662338e-04\n",
      "   3.61169898e-04   4.29952755e-03  -1.73272640e-02  -6.55959957e-03\n",
      "   1.08513320e-02   1.05578437e-02   5.60031717e-03  -6.25929577e-03\n",
      "   2.50891638e-03   9.19901371e-03   1.05937534e-02   2.22330542e-03\n",
      "  -1.66431086e-02   3.04329075e-03   1.55323684e-02  -3.26169214e-03\n",
      "  -2.18310809e-03  -1.09414261e-02   3.23649031e-02  -1.52222815e-03\n",
      "  -2.33201188e-02  -3.56346169e-04  -1.99930324e-04  -1.90867096e-02\n",
      "   8.64005861e-05  -1.53957145e-02  -1.57721063e-02  -2.71122545e-02\n",
      "   4.95937428e-02   8.56268078e-03  -1.24158251e-03   8.49248413e-03\n",
      "   1.26849693e-03  -2.47567304e-02   3.43357146e-02   7.01043485e-03\n",
      "   4.51841878e-03  -1.46297842e-04  -2.22198549e-03   1.31830530e-02\n",
      "   1.41573062e-02   2.20291277e-03   1.37572555e-03  -7.84682749e-03\n",
      "  -1.45624658e-03   1.55492609e-02   8.98610093e-04   6.77623662e-03\n",
      "  -4.70842038e-03  -2.22443798e-03   6.76201087e-04   7.09103099e-04\n",
      "   1.28902247e-02   1.08787526e-02   1.49874332e-03   1.77711075e-03\n",
      "  -3.52643679e-03  -6.41110239e-03   1.23186257e-03   7.90457097e-04\n",
      "   5.44049388e-04  -3.88055849e-03  -1.13153282e-03   1.46660419e-02\n",
      "   2.95331820e-03  -6.94958381e-03  -4.98490290e-03  -3.70594690e-03\n",
      "  -1.30561556e-04   2.94435360e-03   1.08524810e-02  -8.39020658e-04\n",
      "  -4.64432489e-03   3.58948153e-03   6.73428002e-03   1.74557072e-05\n",
      "  -2.14837688e-03  -3.81230670e-05  -6.60932421e-03  -1.57909228e-03\n",
      "  -1.01201756e-03  -8.84120579e-03   2.19176317e-03   3.68973653e-04\n",
      "  -4.68529214e-03  -1.07152217e-03  -9.63827938e-03   1.65116514e-02\n",
      "   1.60542531e-03   3.02142494e-03  -3.72029726e-03   2.41305572e-02\n",
      "  -5.83897507e-03  -8.89528712e-03   5.83733335e-03              nan], test: [  7.26475810e-03   6.93322386e-04   5.75254645e-03   3.56605010e-03\n",
      "   5.24584510e-03   8.64118036e-04   6.04806616e-03   2.57837638e-03\n",
      "   1.36738547e-02   5.03877272e-04   1.31431480e-03   1.24079729e-02\n",
      "   8.43995849e-04   2.93510994e-03   1.64212554e-03   5.59522549e-04\n",
      "   3.05486120e-03   3.75995103e-03   8.61334894e-03   1.91314707e-03\n",
      "   1.73229051e-03   5.82102644e-04   1.02524863e-03   1.13060137e-03\n",
      "   2.16280912e-03   1.47844137e-03   4.77651365e-03   3.10549996e-04\n",
      "   1.56825723e-03   9.95830796e-04   2.83639368e-04   8.60002325e-03\n",
      "   1.53323181e-03   9.27766213e-04   1.87458431e-03   4.67350308e-03\n",
      "   1.06373483e-03   2.82663948e-04   9.72688269e-04   4.92648719e-04\n",
      "   2.41443279e-03   1.00437545e-02   4.98807881e-04   1.54369522e-02\n",
      "   4.87072054e-04   1.98254068e-03   7.55080689e-03   1.11019543e-03\n",
      "   3.04591770e-03   6.47793723e-04   2.22205028e-03   7.21667298e-05\n",
      "   3.70511008e-03   2.32241226e-03   1.80350730e-03   3.27997895e-04\n",
      "   5.11684274e-03   3.19247057e-03   9.44458657e-04   1.89965811e-04\n",
      "   1.89102923e-04   8.97643853e-04   2.30960930e-03   1.27568288e-03\n",
      "   5.50630632e-03   4.07085923e-03   1.98565582e-03   4.58166648e-04\n",
      "   1.66234393e-03   7.03364648e-03   6.74960299e-03   4.38523511e-03\n",
      "   5.59975702e-04   6.02620902e-04   1.18411965e-02   6.73197433e-03\n",
      "   4.88985373e-04   6.48088252e-04   3.75364198e-02   1.39145848e-02\n",
      "   2.61292975e-03   1.20691128e-02   3.73469372e-04   1.27068884e-02\n",
      "   1.10957886e-02   4.83874721e-04   4.46307821e-03   6.36357655e-03\n",
      "   1.84398988e-03   2.51628884e-02   2.09668807e-02   2.71572558e-02\n",
      "   1.37697187e-02   1.26148658e-02   6.86286366e-03   3.33654890e-03\n",
      "   5.62316921e-05   1.33805616e-02   1.83705956e-03  -7.20586357e-03\n",
      "   1.28111790e-02   3.45794550e-03   9.37064372e-03   8.55872321e-04\n",
      "   3.13576179e-03   2.35722044e-03   7.02592972e-04   1.06870767e-03\n",
      "   4.02612787e-03   2.12612776e-03   4.02340229e-03   1.71215429e-03\n",
      "   6.34551052e-03   2.20457702e-03   7.09420287e-03   8.74904267e-03\n",
      "   1.07923749e-03   1.02813573e-03   3.97369863e-03   3.95299312e-03\n",
      "   9.10160506e-03   7.11388791e-03   7.60216484e-03   2.42801777e-03\n",
      "   5.70143413e-03   4.43032905e-03   3.65230509e-03   1.89782681e-03\n",
      "   3.73984151e-03   3.56671942e-04   7.84059190e-03   3.68533012e-04\n",
      "   3.51568776e-03   3.64110512e-03   8.16948233e-03   5.52797877e-03\n",
      "   3.95116629e-04   1.41790366e-03   2.05730076e-02   1.42061978e-02\n",
      "   5.90497896e-03   2.14956002e-02   1.43919224e-02  -5.51183000e-03\n",
      "  -3.08644340e-02   1.86250401e-02   1.56667801e-02  -6.31668638e-03\n",
      "   2.12088561e-02  -1.97014893e-02  -1.48191969e-03  -7.56741069e-03\n",
      "  -1.81512408e-02  -6.55484239e-03  -2.29739796e-02   8.17074755e-03\n",
      "   1.76215399e-03   5.41950368e-03  -2.07734806e-02  -2.05882283e-02\n",
      "   9.69528502e-03   4.09804545e-03  -5.25752517e-03   1.07216886e-02\n",
      "   7.59140038e-03   8.48869406e-03   8.59739595e-03  -9.35714014e-03\n",
      "  -3.02399467e-03  -2.65164156e-03  -2.82550832e-03  -6.89532059e-03\n",
      "  -6.52409865e-03  -8.12571756e-03  -2.13168885e-03  -8.68022382e-04\n",
      "  -1.89745012e-02  -7.18272586e-03   1.15686001e-02   2.08463508e-03\n",
      "  -4.63643277e-03   1.04745995e-03   6.06749439e-03  -3.47787156e-03\n",
      "   6.29369108e-04  -5.09358004e-04   2.27381179e-03  -9.51417009e-04\n",
      "   7.50216308e-03   2.12398579e-03   4.47098843e-03  -8.01594454e-03]\n",
      "train: [  7.26475810e-03   2.26829186e-04   6.93322386e-04   5.75254645e-03\n",
      "   3.56605010e-03   5.24584510e-03   4.00733518e-03   8.64118036e-04\n",
      "   1.67855653e-03   6.04806616e-03   1.01798306e-03   2.57837638e-03\n",
      "   1.36738547e-02   5.03877272e-04   3.27724085e-03   2.91337377e-03\n",
      "   2.28421517e-03   3.26867020e-03   3.66632813e-04   3.37902718e-03\n",
      "   1.31431480e-03   2.00989353e-03   1.24079729e-02   8.43995849e-04\n",
      "   7.25147435e-03   1.08532474e-03   2.93510994e-03   1.64212554e-03\n",
      "   5.59522549e-04   3.05486120e-03   1.92950941e-03   6.87686484e-04\n",
      "   3.75995103e-03   8.61334894e-03   7.55726342e-03   1.08400690e-02\n",
      "   4.85703484e-04   5.52919804e-04   1.91314707e-03   1.73229051e-03\n",
      "   1.18904995e-03   5.82102644e-04   3.74459730e-05   1.02524863e-03\n",
      "   1.13060137e-03   2.16280912e-03   1.47844137e-03   4.77651365e-03\n",
      "   1.81782144e-02   3.68681828e-03   5.16013115e-03   1.83787199e-03\n",
      "   2.48912655e-03   4.44194838e-03   3.10549996e-04   1.56825723e-03\n",
      "   2.67204728e-04   8.29989234e-04   9.95830796e-04   2.83639368e-04\n",
      "   6.69663736e-03   4.55782072e-04   1.56091552e-03   8.60002325e-03\n",
      "   1.53323181e-03   2.31083385e-03   9.27766213e-04   1.87458431e-03\n",
      "   4.67350308e-03   5.37263936e-03   3.67871648e-04   1.06373483e-03\n",
      "   2.92317168e-03   2.82663948e-04   9.72688269e-04   4.92648719e-04\n",
      "   1.88910353e-03   2.41443279e-03   3.63608671e-04   1.44744417e-02\n",
      "   1.00437545e-02   4.98807881e-04   1.42010292e-03   1.54369522e-02\n",
      "   1.16265107e-03   2.07446207e-03   1.67286936e-03   4.87072054e-04\n",
      "   4.61514893e-03   1.98254068e-03   7.55080689e-03   3.12872677e-03\n",
      "   1.78436123e-04   1.08392993e-02   3.36394801e-03   1.84718149e-03\n",
      "   1.11019543e-03   3.04591770e-03   6.47793723e-04   2.22205028e-03\n",
      "   7.21667298e-05   3.70511008e-03   3.87400346e-03   1.07363441e-03\n",
      "   2.32241226e-03   1.80350730e-03   1.75075331e-03   6.72578985e-04\n",
      "   7.42334906e-04   3.27997895e-04   5.11684274e-03   3.97248404e-03\n",
      "   1.61790828e-03   4.66304975e-03   1.27094622e-03   3.19247057e-03\n",
      "   9.44458657e-04   1.89965811e-04   3.09707538e-03   1.89102923e-04\n",
      "   1.44365500e-03   3.76188764e-03   8.97643853e-04   9.83634363e-04\n",
      "   2.30960930e-03   5.52567572e-03   8.19605806e-03   2.62596309e-03\n",
      "   1.27568288e-03   6.54113930e-03   7.50261117e-04   3.84257741e-04\n",
      "   2.02453080e-03   1.05215664e-03   1.14105660e-04   5.50630632e-03\n",
      "   3.20195747e-03  -1.54892206e-03   4.72957091e-04   4.07085923e-03\n",
      "   8.97434351e-03   5.36280723e-03   1.98565582e-03   4.58166648e-04\n",
      "   4.02863608e-03   1.66234393e-03   1.30293160e-03   1.11222683e-03\n",
      "   7.03364648e-03   6.74960299e-03   1.61638973e-03   4.38523511e-03\n",
      "   2.17436548e-03   5.59975702e-04   6.02620902e-04   1.18411965e-02\n",
      "   6.73197433e-03   1.08988156e-02   4.88985373e-04   6.48088252e-04\n",
      "   4.09792248e-02   1.74409206e-02   5.00158842e-03   3.75364198e-02\n",
      "   1.39145848e-02   2.61292975e-03   1.34024583e-02   1.20691128e-02\n",
      "   3.73469372e-04   5.84138946e-03   5.49650313e-03   9.73551079e-04\n",
      "   1.17570153e-02   1.27068884e-02   1.10957886e-02   1.33243995e-02\n",
      "   4.83874721e-04   4.46307821e-03   1.27398513e-03   6.36357655e-03\n",
      "   5.72452195e-03   7.81930532e-04   1.42041954e-02   1.48180545e-03\n",
      "   1.84398988e-03   2.51628884e-02   2.09668807e-02   2.71572558e-02\n",
      "   2.91665717e-03   1.37697187e-02   1.26148658e-02   6.86286366e-03\n",
      "   3.33654890e-03   1.67269538e-02   5.52536448e-03   2.88662549e-03\n",
      "   1.06615047e-02   8.31365801e-04   5.72612469e-03   5.62316921e-05\n",
      "   1.33805616e-02   1.83705956e-03   1.11362489e-03  -7.20586357e-03\n",
      "   2.25367424e-03   1.28111790e-02   3.45794550e-03   2.65641323e-04\n",
      "   9.68222026e-03   9.37064372e-03   1.70759555e-03   6.84214028e-03\n",
      "   4.06056168e-03   8.55872321e-04   7.38675300e-03   3.13576179e-03\n",
      "   3.24840989e-03   2.35722044e-03   6.87955997e-03   1.08492304e-02\n",
      "   7.02592972e-04   8.56739247e-03   7.14188468e-04   3.12590439e-03\n",
      "   1.06870767e-03   1.74338521e-03   4.02612787e-03   1.01710272e-03\n",
      "   2.12612776e-03   4.02340229e-03   1.71215429e-03   6.34551052e-03\n",
      "   1.86193451e-03   2.20457702e-03   6.17868986e-03   7.58403330e-04\n",
      "   3.06795741e-03   8.62080368e-03   8.48128160e-03   3.47326718e-03\n",
      "   7.09420287e-03   8.74904267e-03   1.07923749e-03   1.02813573e-03\n",
      "   3.97369863e-03   3.95299312e-03   9.48447710e-04   4.78091115e-03\n",
      "   9.10160506e-03   3.03229602e-03   6.56220869e-03   4.64418301e-03\n",
      "   2.62379966e-04   1.44167446e-03   7.11388791e-03   6.38925478e-03\n",
      "   7.60216484e-03   3.32311572e-03   2.42801777e-03   2.06853643e-03\n",
      "   3.98151771e-04   1.69126213e-03   6.19883970e-03   7.67040943e-03\n",
      "   5.70143413e-03   4.43032905e-03   1.34477509e-04   1.65432215e-03\n",
      "   2.80312668e-03   3.65230509e-03   2.21334483e-03   1.89782681e-03\n",
      "   3.73984151e-03   3.56671942e-04   5.28225433e-03   7.84059190e-03\n",
      "   3.68533012e-04   3.51568776e-03   6.87012054e-06   3.64110512e-03\n",
      "   3.96690208e-04   8.16948233e-03   5.52797877e-03   3.95116629e-04\n",
      "   1.41790366e-03   3.28642290e-02   2.05730076e-02   1.42061978e-02\n",
      "   5.90497896e-03   2.14956002e-02   1.43919224e-02   3.61169898e-04\n",
      "   4.29952755e-03  -5.51183000e-03  -3.08644340e-02   1.86250401e-02\n",
      "   1.56667801e-02  -6.31668638e-03   2.12088561e-02  -1.97014893e-02\n",
      "  -1.48191969e-03  -7.56741069e-03  -1.66431086e-02  -1.81512408e-02\n",
      "   3.04329075e-03  -6.55484239e-03   1.55323684e-02  -2.29739796e-02\n",
      "   8.17074755e-03  -1.09414261e-02  -1.52222815e-03   1.76215399e-03\n",
      "  -3.56346169e-04   5.41950368e-03  -1.99930324e-04  -1.90867096e-02\n",
      "  -2.07734806e-02   8.64005861e-05  -2.05882283e-02  -2.71122545e-02\n",
      "  -1.24158251e-03  -2.47567304e-02   9.69528502e-03   4.09804545e-03\n",
      "   4.51841878e-03  -1.46297842e-04  -5.25752517e-03   1.07216886e-02\n",
      "  -2.22198549e-03   7.59140038e-03   1.41573062e-02   2.20291277e-03\n",
      "   8.48869406e-03  -7.84682749e-03   1.55492609e-02   8.59739595e-03\n",
      "   6.77623662e-03  -4.70842038e-03  -2.22443798e-03  -9.35714014e-03\n",
      "   7.09103099e-04   1.28902247e-02  -3.02399467e-03  -2.65164156e-03\n",
      "   1.77711075e-03  -3.52643679e-03  -6.41110239e-03  -2.82550832e-03\n",
      "  -6.89532059e-03  -1.13153282e-03  -6.52409865e-03  -8.12571756e-03\n",
      "  -2.13168885e-03   1.46660419e-02  -6.94958381e-03  -8.68022382e-04\n",
      "  -3.70594690e-03   1.08524810e-02  -1.89745012e-02  -8.39020658e-04\n",
      "  -7.18272586e-03   3.58948153e-03   6.73428002e-03   1.15686001e-02\n",
      "   1.74557072e-05   2.08463508e-03  -4.63643277e-03   1.04745995e-03\n",
      "   6.06749439e-03  -3.47787156e-03  -6.60932421e-03   6.29369108e-04\n",
      "  -5.09358004e-04   2.27381179e-03  -1.01201756e-03  -1.07152217e-03\n",
      "  -9.51417009e-04   7.50216308e-03   2.12398579e-03  -9.63827938e-03\n",
      "   4.47098843e-03   2.41305572e-02  -8.01594454e-03  -5.83897507e-03], test: [  2.11535699e-03   4.99230892e-03   1.08220015e-03   4.18986722e-04\n",
      "   1.49336419e-03   5.85988050e-03   7.99895359e-04   8.37475280e-03\n",
      "   1.62671027e-03   1.88988644e-03   1.06026966e-03   1.01958745e-03\n",
      "   2.25504749e-03   8.27130202e-04   1.43387930e-03   6.81469423e-03\n",
      "   2.90337986e-03   1.71635078e-03   3.03507293e-03   6.09068748e-03\n",
      "   1.27136053e-03   4.08869541e-03   6.86897015e-04   6.76749994e-03\n",
      "   1.20462459e-03   4.59968802e-04   7.57111261e-03   3.70773131e-03\n",
      "   1.21766518e-03   2.77903997e-03   9.78763178e-04   4.51150518e-03\n",
      "   2.23959815e-03   8.34722866e-03   5.82644390e-04   3.15801795e-04\n",
      "   8.07282489e-03   8.80806637e-03   1.45327902e-03   9.36882382e-03\n",
      "   6.40312549e-03   7.82680612e-04   7.30560764e-03   5.29128368e-05\n",
      "   5.97857344e-04   1.53659282e-04   1.34111558e-03   7.28145608e-04\n",
      "   2.44911497e-03   2.18365419e-03   1.64719979e-03   1.27556998e-03\n",
      "   1.83536731e-03   9.94077979e-03   3.45359271e-03   8.42821737e-04\n",
      "   5.72097622e-03  -1.48885070e-03   7.57120719e-04   1.10071762e-03\n",
      "   1.45592075e-03   6.34347816e-04   4.08514395e-03   1.20461560e-03\n",
      "   2.15883813e-03   1.24672017e-03   5.64678737e-03   1.80443392e-03\n",
      "   1.68675295e-03   8.78107316e-04   8.07302250e-03   1.59211017e-03\n",
      "   1.27125124e-03   2.05609515e-03   9.84851272e-03   3.69225702e-04\n",
      "   8.19095043e-03   3.73938156e-03   2.93235799e-03   3.23026946e-03\n",
      "   8.27893181e-04   1.05841518e-03   7.90940939e-04   1.83399873e-03\n",
      "   5.18315316e-03   8.30336148e-03   6.39881877e-03   7.03376744e-03\n",
      "   3.52448762e-03   9.41505156e-03   8.06672650e-03   2.12085479e-02\n",
      "   1.49360902e-02   1.60283764e-02   5.07160274e-03   1.10320265e-02\n",
      "   2.63885861e-03  -1.73788315e-02   1.70344717e-03   1.72763088e-02\n",
      "   2.23374236e-02   1.15664827e-02   2.19202488e-02   8.25075006e-03\n",
      "   8.10903839e-03   8.53653230e-03   1.04342048e-02   8.18749096e-03\n",
      "   2.54904548e-03   8.83489557e-04   2.63219494e-03   2.02321350e-03\n",
      "   1.15641873e-02   1.26957912e-02   4.47959844e-03   2.47154978e-03\n",
      "   1.37246690e-02   8.60435513e-03   4.94735063e-03   8.82298589e-03\n",
      "   2.16051263e-03   1.83804949e-03   5.75417029e-03   4.88472880e-03\n",
      "   1.04035153e-03   4.92644480e-03   3.53822745e-03   2.82418226e-03\n",
      "   4.00599219e-03   7.91940848e-03   2.69278326e-04   2.75481839e-04\n",
      "   5.56972225e-03   5.36901464e-03   1.25327272e-03   1.30509611e-03\n",
      "   3.28927811e-03   2.76328709e-03   7.11519747e-04   2.52662338e-04\n",
      "  -1.73272640e-02  -6.55959957e-03   1.08513320e-02   1.05578437e-02\n",
      "   5.60031717e-03  -6.25929577e-03   2.50891638e-03   9.19901371e-03\n",
      "   1.05937534e-02   2.22330542e-03  -3.26169214e-03  -2.18310809e-03\n",
      "   3.23649031e-02  -2.33201188e-02  -1.53957145e-02  -1.57721063e-02\n",
      "   4.95937428e-02   8.56268078e-03   8.49248413e-03   1.26849693e-03\n",
      "   3.43357146e-02   7.01043485e-03   1.31830530e-02   1.37572555e-03\n",
      "  -1.45624658e-03   8.98610093e-04   6.76201087e-04   1.08787526e-02\n",
      "   1.49874332e-03   1.23186257e-03   7.90457097e-04   5.44049388e-04\n",
      "  -3.88055849e-03   2.95331820e-03  -4.98490290e-03  -1.30561556e-04\n",
      "   2.94435360e-03  -4.64432489e-03  -2.14837688e-03  -3.81230670e-05\n",
      "  -1.57909228e-03  -8.84120579e-03   2.19176317e-03   3.68973653e-04\n",
      "  -4.68529214e-03   1.65116514e-02   1.60542531e-03   3.02142494e-03\n",
      "  -3.72029726e-03  -8.89528712e-03   5.83733335e-03              nan]\n",
      "train: [  7.26475810e-03   2.11535699e-03   6.93322386e-04   5.75254645e-03\n",
      "   3.56605010e-03   5.24584510e-03   4.99230892e-03   8.64118036e-04\n",
      "   6.04806616e-03   1.08220015e-03   4.18986722e-04   1.49336419e-03\n",
      "   2.57837638e-03   1.36738547e-02   5.85988050e-03   5.03877272e-04\n",
      "   7.99895359e-04   8.37475280e-03   1.62671027e-03   1.31431480e-03\n",
      "   1.24079729e-02   1.88988644e-03   1.06026966e-03   8.43995849e-04\n",
      "   1.01958745e-03   2.93510994e-03   2.25504749e-03   1.64212554e-03\n",
      "   5.59522549e-04   3.05486120e-03   8.27130202e-04   1.43387930e-03\n",
      "   3.75995103e-03   6.81469423e-03   8.61334894e-03   2.90337986e-03\n",
      "   1.71635078e-03   3.03507293e-03   6.09068748e-03   1.91314707e-03\n",
      "   1.73229051e-03   1.27136053e-03   5.82102644e-04   4.08869541e-03\n",
      "   1.02524863e-03   1.13060137e-03   2.16280912e-03   1.47844137e-03\n",
      "   4.77651365e-03   6.86897015e-04   6.76749994e-03   3.10549996e-04\n",
      "   1.20462459e-03   4.59968802e-04   7.57111261e-03   3.70773131e-03\n",
      "   1.21766518e-03   2.77903997e-03   1.56825723e-03   9.78763178e-04\n",
      "   4.51150518e-03   9.95830796e-04   2.23959815e-03   2.83639368e-04\n",
      "   8.34722866e-03   5.82644390e-04   3.15801795e-04   8.07282489e-03\n",
      "   8.80806637e-03   8.60002325e-03   1.53323181e-03   1.45327902e-03\n",
      "   9.36882382e-03   6.40312549e-03   9.27766213e-04   7.82680612e-04\n",
      "   7.30560764e-03   1.87458431e-03   4.67350308e-03   5.29128368e-05\n",
      "   5.97857344e-04   1.53659282e-04   1.06373483e-03   2.82663948e-04\n",
      "   9.72688269e-04   1.34111558e-03   7.28145608e-04   2.44911497e-03\n",
      "   4.92648719e-04   2.18365419e-03   1.64719979e-03   2.41443279e-03\n",
      "   1.27556998e-03   1.00437545e-02   4.98807881e-04   1.54369522e-02\n",
      "   1.83536731e-03   9.94077979e-03   3.45359271e-03   4.87072054e-04\n",
      "   8.42821737e-04   5.72097622e-03   1.98254068e-03   7.55080689e-03\n",
      "  -1.48885070e-03   7.57120719e-04   1.10071762e-03   1.45592075e-03\n",
      "   1.11019543e-03   6.34347816e-04   3.04591770e-03   6.47793723e-04\n",
      "   2.22205028e-03   7.21667298e-05   4.08514395e-03   1.20461560e-03\n",
      "   3.70511008e-03   2.15883813e-03   1.24672017e-03   5.64678737e-03\n",
      "   1.80443392e-03   2.32241226e-03   1.80350730e-03   1.68675295e-03\n",
      "   8.78107316e-04   3.27997895e-04   5.11684274e-03   8.07302250e-03\n",
      "   3.19247057e-03   9.44458657e-04   1.59211017e-03   1.89965811e-04\n",
      "   1.27125124e-03   1.89102923e-04   8.97643853e-04   2.30960930e-03\n",
      "   1.27568288e-03   2.05609515e-03   9.84851272e-03   3.69225702e-04\n",
      "   8.19095043e-03   3.73938156e-03   2.93235799e-03   5.50630632e-03\n",
      "   4.07085923e-03   3.23026946e-03   8.27893181e-04   1.98565582e-03\n",
      "   4.58166648e-04   1.05841518e-03   7.90940939e-04   1.83399873e-03\n",
      "   5.18315316e-03   8.30336148e-03   6.39881877e-03   7.03376744e-03\n",
      "   1.66234393e-03   7.03364648e-03   6.74960299e-03   3.52448762e-03\n",
      "   9.41505156e-03   4.38523511e-03   8.06672650e-03   5.59975702e-04\n",
      "   6.02620902e-04   1.18411965e-02   6.73197433e-03   4.88985373e-04\n",
      "   6.48088252e-04   2.12085479e-02   3.75364198e-02   1.49360902e-02\n",
      "   1.39145848e-02   2.61292975e-03   1.20691128e-02   3.73469372e-04\n",
      "   1.60283764e-02   1.27068884e-02   1.10957886e-02   5.07160274e-03\n",
      "   1.10320265e-02   2.63885861e-03   4.83874721e-04   4.46307821e-03\n",
      "  -1.73788315e-02   6.36357655e-03   1.70344717e-03   1.84398988e-03\n",
      "   2.51628884e-02   2.09668807e-02   2.71572558e-02   1.72763088e-02\n",
      "   1.37697187e-02   2.23374236e-02   1.26148658e-02   1.15664827e-02\n",
      "   6.86286366e-03   2.19202488e-02   3.33654890e-03   8.25075006e-03\n",
      "   8.10903839e-03   8.53653230e-03   5.62316921e-05   1.33805616e-02\n",
      "   1.83705956e-03   1.04342048e-02   8.18749096e-03   2.54904548e-03\n",
      "  -7.20586357e-03   1.28111790e-02   3.45794550e-03   9.37064372e-03\n",
      "   8.83489557e-04   8.55872321e-04   2.63219494e-03   3.13576179e-03\n",
      "   2.02321350e-03   2.35722044e-03   1.15641873e-02   1.26957912e-02\n",
      "   4.47959844e-03   7.02592972e-04   1.06870767e-03   4.02612787e-03\n",
      "   2.47154978e-03   2.12612776e-03   4.02340229e-03   1.71215429e-03\n",
      "   6.34551052e-03   1.37246690e-02   2.20457702e-03   8.60435513e-03\n",
      "   4.94735063e-03   8.82298589e-03   7.09420287e-03   8.74904267e-03\n",
      "   1.07923749e-03   1.02813573e-03   3.97369863e-03   2.16051263e-03\n",
      "   3.95299312e-03   1.83804949e-03   9.10160506e-03   5.75417029e-03\n",
      "   4.88472880e-03   1.04035153e-03   4.92644480e-03   3.53822745e-03\n",
      "   2.82418226e-03   7.11388791e-03   4.00599219e-03   7.60216484e-03\n",
      "   7.91940848e-03   2.42801777e-03   2.69278326e-04   5.70143413e-03\n",
      "   4.43032905e-03   3.65230509e-03   1.89782681e-03   3.73984151e-03\n",
      "   3.56671942e-04   2.75481839e-04   5.56972225e-03   5.36901464e-03\n",
      "   1.25327272e-03   7.84059190e-03   3.68533012e-04   3.51568776e-03\n",
      "   1.30509611e-03   3.28927811e-03   2.76328709e-03   3.64110512e-03\n",
      "   7.11519747e-04   8.16948233e-03   5.52797877e-03   3.95116629e-04\n",
      "   1.41790366e-03   2.05730076e-02   1.42061978e-02   5.90497896e-03\n",
      "   2.14956002e-02   2.52662338e-04   1.43919224e-02  -5.51183000e-03\n",
      "  -3.08644340e-02   1.86250401e-02  -1.73272640e-02  -6.55959957e-03\n",
      "   1.56667801e-02   1.08513320e-02   1.05578437e-02  -6.31668638e-03\n",
      "   5.60031717e-03  -6.25929577e-03   2.12088561e-02   2.50891638e-03\n",
      "   9.19901371e-03  -1.97014893e-02  -1.48191969e-03  -7.56741069e-03\n",
      "   1.05937534e-02   2.22330542e-03  -1.81512408e-02  -6.55484239e-03\n",
      "  -3.26169214e-03  -2.29739796e-02  -2.18310809e-03   8.17074755e-03\n",
      "   3.23649031e-02  -2.33201188e-02   1.76215399e-03   5.41950368e-03\n",
      "  -2.07734806e-02  -1.53957145e-02  -1.57721063e-02  -2.05882283e-02\n",
      "   4.95937428e-02   8.56268078e-03   8.49248413e-03   1.26849693e-03\n",
      "   3.43357146e-02   7.01043485e-03   9.69528502e-03   4.09804545e-03\n",
      "  -5.25752517e-03   1.07216886e-02   7.59140038e-03   1.31830530e-02\n",
      "   1.37572555e-03   8.48869406e-03  -1.45624658e-03   8.59739595e-03\n",
      "   8.98610093e-04  -9.35714014e-03   6.76201087e-04  -3.02399467e-03\n",
      "  -2.65164156e-03   1.08787526e-02   1.49874332e-03   1.23186257e-03\n",
      "   7.90457097e-04   5.44049388e-04  -2.82550832e-03  -6.89532059e-03\n",
      "  -3.88055849e-03  -6.52409865e-03  -8.12571756e-03  -2.13168885e-03\n",
      "   2.95331820e-03  -8.68022382e-04  -4.98490290e-03  -1.30561556e-04\n",
      "   2.94435360e-03  -1.89745012e-02  -7.18272586e-03  -4.64432489e-03\n",
      "   1.15686001e-02  -2.14837688e-03   2.08463508e-03  -4.63643277e-03\n",
      "   1.04745995e-03   6.06749439e-03  -3.47787156e-03  -3.81230670e-05\n",
      "   6.29369108e-04  -5.09358004e-04   2.27381179e-03  -1.57909228e-03\n",
      "  -8.84120579e-03   2.19176317e-03   3.68973653e-04  -4.68529214e-03\n",
      "  -9.51417009e-04   7.50216308e-03   2.12398579e-03   4.47098843e-03\n",
      "   1.65116514e-02   1.60542531e-03   3.02142494e-03  -3.72029726e-03\n",
      "  -8.01594454e-03  -8.89528712e-03   5.83733335e-03              nan], test: [  2.26829186e-04   4.00733518e-03   1.67855653e-03   1.01798306e-03\n",
      "   3.27724085e-03   2.91337377e-03   2.28421517e-03   3.26867020e-03\n",
      "   3.66632813e-04   3.37902718e-03   2.00989353e-03   7.25147435e-03\n",
      "   1.08532474e-03   1.92950941e-03   6.87686484e-04   7.55726342e-03\n",
      "   1.08400690e-02   4.85703484e-04   5.52919804e-04   1.18904995e-03\n",
      "   3.74459730e-05   1.81782144e-02   3.68681828e-03   5.16013115e-03\n",
      "   1.83787199e-03   2.48912655e-03   4.44194838e-03   2.67204728e-04\n",
      "   8.29989234e-04   6.69663736e-03   4.55782072e-04   1.56091552e-03\n",
      "   2.31083385e-03   5.37263936e-03   3.67871648e-04   2.92317168e-03\n",
      "   1.88910353e-03   3.63608671e-04   1.44744417e-02   1.42010292e-03\n",
      "   1.16265107e-03   2.07446207e-03   1.67286936e-03   4.61514893e-03\n",
      "   3.12872677e-03   1.78436123e-04   1.08392993e-02   3.36394801e-03\n",
      "   1.84718149e-03   3.87400346e-03   1.07363441e-03   1.75075331e-03\n",
      "   6.72578985e-04   7.42334906e-04   3.97248404e-03   1.61790828e-03\n",
      "   4.66304975e-03   1.27094622e-03   3.09707538e-03   1.44365500e-03\n",
      "   3.76188764e-03   9.83634363e-04   5.52567572e-03   8.19605806e-03\n",
      "   2.62596309e-03   6.54113930e-03   7.50261117e-04   3.84257741e-04\n",
      "   2.02453080e-03   1.05215664e-03   1.14105660e-04   3.20195747e-03\n",
      "  -1.54892206e-03   4.72957091e-04   8.97434351e-03   5.36280723e-03\n",
      "   4.02863608e-03   1.30293160e-03   1.11222683e-03   1.61638973e-03\n",
      "   2.17436548e-03   1.08988156e-02   4.09792248e-02   1.74409206e-02\n",
      "   5.00158842e-03   1.34024583e-02   5.84138946e-03   5.49650313e-03\n",
      "   9.73551079e-04   1.17570153e-02   1.33243995e-02   1.27398513e-03\n",
      "   5.72452195e-03   7.81930532e-04   1.42041954e-02   1.48180545e-03\n",
      "   2.91665717e-03   1.67269538e-02   5.52536448e-03   2.88662549e-03\n",
      "   1.06615047e-02   8.31365801e-04   5.72612469e-03   1.11362489e-03\n",
      "   2.25367424e-03   2.65641323e-04   9.68222026e-03   1.70759555e-03\n",
      "   6.84214028e-03   4.06056168e-03   7.38675300e-03   3.24840989e-03\n",
      "   6.87955997e-03   1.08492304e-02   8.56739247e-03   7.14188468e-04\n",
      "   3.12590439e-03   1.74338521e-03   1.01710272e-03   1.86193451e-03\n",
      "   6.17868986e-03   7.58403330e-04   3.06795741e-03   8.62080368e-03\n",
      "   8.48128160e-03   3.47326718e-03   9.48447710e-04   4.78091115e-03\n",
      "   3.03229602e-03   6.56220869e-03   4.64418301e-03   2.62379966e-04\n",
      "   1.44167446e-03   6.38925478e-03   3.32311572e-03   2.06853643e-03\n",
      "   3.98151771e-04   1.69126213e-03   6.19883970e-03   7.67040943e-03\n",
      "   1.34477509e-04   1.65432215e-03   2.80312668e-03   2.21334483e-03\n",
      "   5.28225433e-03   6.87012054e-06   3.96690208e-04   3.28642290e-02\n",
      "   3.61169898e-04   4.29952755e-03  -1.66431086e-02   3.04329075e-03\n",
      "   1.55323684e-02  -1.09414261e-02  -1.52222815e-03  -3.56346169e-04\n",
      "  -1.99930324e-04  -1.90867096e-02   8.64005861e-05  -2.71122545e-02\n",
      "  -1.24158251e-03  -2.47567304e-02   4.51841878e-03  -1.46297842e-04\n",
      "  -2.22198549e-03   1.41573062e-02   2.20291277e-03  -7.84682749e-03\n",
      "   1.55492609e-02   6.77623662e-03  -4.70842038e-03  -2.22443798e-03\n",
      "   7.09103099e-04   1.28902247e-02   1.77711075e-03  -3.52643679e-03\n",
      "  -6.41110239e-03  -1.13153282e-03   1.46660419e-02  -6.94958381e-03\n",
      "  -3.70594690e-03   1.08524810e-02  -8.39020658e-04   3.58948153e-03\n",
      "   6.73428002e-03   1.74557072e-05  -6.60932421e-03  -1.01201756e-03\n",
      "  -1.07152217e-03  -9.63827938e-03   2.41305572e-02  -5.83897507e-03]\n"
     ]
    }
   ],
   "source": [
    "\n",
    "kfold = KFold(3, True,1)\n",
    "# enumerate split\n",
    "for train,test in kfold.split(df):\n",
    "    print('train: %s, test: %s' %(df[train], df[test]))\n"
   ]
  },
  {
   "cell_type": "code",
   "execution_count": null,
   "metadata": {
    "collapsed": true
   },
   "outputs": [],
   "source": []
  }
 ],
 "metadata": {
  "kernelspec": {
   "display_name": "Python 3",
   "language": "python",
   "name": "python3"
  },
  "language_info": {
   "codemirror_mode": {
    "name": "ipython",
    "version": 3
   },
   "file_extension": ".py",
   "mimetype": "text/x-python",
   "name": "python",
   "nbconvert_exporter": "python",
   "pygments_lexer": "ipython3",
   "version": "3.7.3"
  }
 },
 "nbformat": 4,
 "nbformat_minor": 2
}
